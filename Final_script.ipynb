{
 "cells": [
  {
   "cell_type": "markdown",
   "id": "da93e1ff",
   "metadata": {},
   "source": [
    "# CUSTOMIZE PARAMETERS"
   ]
  },
  {
   "cell_type": "code",
   "execution_count": 45,
   "id": "ac8bec54",
   "metadata": {},
   "outputs": [],
   "source": [
    "#path were the input PDB structure and parameters are located\n",
    "base_path = '/home/nuria/Documents/Bioinformatics/Biophysics/Project/Tries_script/'\n",
    "\n",
    "'''\n",
    "Note: the generated output files will be stored at the same directory where this script (.ipynb) is located (which\n",
    "is not necessarily the same directory as the 'base_path')\n",
    "'''\n",
    "\n",
    "#distance used when defining the interface residues  \n",
    "cutoff = 4"
   ]
  },
  {
   "cell_type": "markdown",
   "id": "950c47a3",
   "metadata": {},
   "source": [
    "# 0. PREPARATION & DATA CURATION"
   ]
  },
  {
   "cell_type": "code",
   "execution_count": 46,
   "id": "47dafe98",
   "metadata": {},
   "outputs": [
    {
     "name": "stdout",
     "output_type": "stream",
     "text": [
      "The autoreload extension is already loaded. To reload it, use:\n",
      "  %reload_ext autoreload\n"
     ]
    }
   ],
   "source": [
    "# Load extensions, imports and initialization\n",
    "%load_ext autoreload\n",
    "%autoreload 2\n",
    "import nglview as nv\n",
    "import biobb_structure_checking #package to check the quality of a 3D structure\n",
    "import biobb_structure_checking.constants as cts\n",
    "from biobb_structure_checking.structure_checking import StructureChecking\n",
    "base_dir_path=biobb_structure_checking.__path__[0]\n",
    "args = cts.set_defaults(base_dir_path,{'notebook':True})"
   ]
  },
  {
   "cell_type": "code",
   "execution_count": 47,
   "id": "56a0ee60",
   "metadata": {},
   "outputs": [],
   "source": [
    "# Define arguments and paths for input and output\n",
    "args['input_structure_path'] = base_path + '6m0j.cif'\n",
    "args['output_structure_path'] = base_path + '6m0j_fixed.pdb'\n",
    "args['output_structure_path_charges'] = base_path + '6m0j_fixed.pdbqt'\n",
    "args['debug'] = False\n",
    "args['verbose'] = False\n",
    "args['output_format'] = \"pdb\"\n",
    "args['keep_canonical'] = False\n",
    "args['time_limit'] = False\n",
    "args['nocache'] = False\n",
    "args['copy_input'] = False\n",
    "args['build_warnings'] = False\n",
    "args['coords_only'] = False\n",
    "args['overwrite'] = False"
   ]
  },
  {
   "cell_type": "code",
   "execution_count": 48,
   "id": "fd74371b",
   "metadata": {},
   "outputs": [
    {
     "name": "stdout",
     "output_type": "stream",
     "text": [
      "Structure /home/nuria/Documents/Bioinformatics/Biophysics/Project/Tries_script/6m0j.cif loaded\n",
      " PDB id: 6M0J\n",
      " Title: Crystal structure of SARS-CoV-2 spike receptor-binding domain bound with ACE2\n",
      " Experimental method: X-RAY DIFFRACTION\n",
      " Keywords: VIRAL PROTEIN/HYDROLASE\n",
      " Resolution (A): 2.4500\n",
      "\n",
      " Num. models: 1\n",
      " Num. chains: 2 (A: Protein, E: Protein)\n",
      " Num. residues:  878\n",
      " Num. residues with ins. codes:  0\n",
      " Num. HETATM residues:  87\n",
      " Num. ligands or modified residues:  7\n",
      " Num. water mol.:  80\n",
      " Num. atoms:  6558\n",
      "Metal/Ion residues found\n",
      " ZN A901\n",
      " CL A902\n",
      "Small mol ligands found\n",
      "NAG A903\n",
      "NAG A904\n",
      "NAG A905\n",
      "NAG A906\n",
      "NAG E601\n",
      "\n"
     ]
    }
   ],
   "source": [
    "# Load and check the structure (name, experimental method, number of models, chains, atoms, etc.)\n",
    "st_c = StructureChecking(base_dir_path, args)"
   ]
  },
  {
   "cell_type": "markdown",
   "id": "9b31f9f2",
   "metadata": {},
   "source": [
    "#### Models and chains"
   ]
  },
  {
   "cell_type": "code",
   "execution_count": 49,
   "id": "9238f26a",
   "metadata": {},
   "outputs": [
    {
     "name": "stdout",
     "output_type": "stream",
     "text": [
      "Running models.\n",
      "1 Model(s) detected\n",
      "Single model found\n"
     ]
    }
   ],
   "source": [
    "# Check how many models there are of the structure\n",
    "st_c.models()"
   ]
  },
  {
   "cell_type": "code",
   "execution_count": 50,
   "id": "55833a7a",
   "metadata": {},
   "outputs": [
    {
     "name": "stdout",
     "output_type": "stream",
     "text": [
      "Running chains.\n",
      "2 Chain(s) detected\n",
      " A: Protein\n",
      " E: Protein\n"
     ]
    }
   ],
   "source": [
    "# Check the chains (number of chains and name)\n",
    "st_c.chains()"
   ]
  },
  {
   "cell_type": "code",
   "execution_count": 51,
   "id": "7230740e",
   "metadata": {},
   "outputs": [
    {
     "name": "stdout",
     "output_type": "stream",
     "text": [
      " Num. models: 1\n",
      " Num. chains: 2 (A: Protein, E: Protein)\n",
      " Num. residues:  878\n",
      " Num. residues with ins. codes:  0\n",
      " Num. HETATM residues:  87\n",
      " Num. ligands or modified residues:  7\n",
      " Num. water mol.:  80\n",
      " Num. atoms:  6558\n",
      "Metal/Ion residues found\n",
      " ZN A901\n",
      " CL A902\n",
      "Small mol ligands found\n",
      "NAG A903\n",
      "NAG A904\n",
      "NAG A905\n",
      "NAG A906\n",
      "NAG E601\n"
     ]
    }
   ],
   "source": [
    "# An alternative way to check both the models and chains (among other information) is to use 'print_stats'\n",
    "st_c.print_stats()"
   ]
  },
  {
   "cell_type": "code",
   "execution_count": 52,
   "id": "ab300057",
   "metadata": {},
   "outputs": [
    {
     "name": "stdout",
     "output_type": "stream",
     "text": [
      "Running altloc.\n",
      "Detected 2 residues with alternative location labels\n",
      "HIS A228\n",
      "  CA   A (0.50) B (0.50)\n",
      "  CB   A (0.50) B (0.50)\n",
      "  CG   A (0.50) B (0.50)\n",
      "  ND1  A (0.50) B (0.50)\n",
      "  CD2  A (0.50) B (0.50)\n",
      "  CE1  A (0.50) B (0.50)\n",
      "  NE2  A (0.50) B (0.50)\n",
      "GLN E493\n",
      "  CA   A (0.50) B (0.50)\n",
      "  CB   A (0.50) B (0.50)\n",
      "  CG   A (0.50) B (0.50)\n",
      "  CD   A (0.50) B (0.50)\n",
      "  OE1  A (0.50) B (0.50)\n",
      "  NE2  A (0.50) B (0.50)\n"
     ]
    }
   ],
   "source": [
    "# Check for residues that have alternative locations (coordinates)\n",
    "st_c.altloc()"
   ]
  },
  {
   "cell_type": "code",
   "execution_count": 53,
   "id": "0f902188",
   "metadata": {},
   "outputs": [
    {
     "name": "stdout",
     "output_type": "stream",
     "text": [
      "Running altloc. Options: occupancy\n",
      "Detected 2 residues with alternative location labels\n",
      "HIS A228\n",
      "  CA   A (0.50) B (0.50)\n",
      "  CB   A (0.50) B (0.50)\n",
      "  CG   A (0.50) B (0.50)\n",
      "  ND1  A (0.50) B (0.50)\n",
      "  CD2  A (0.50) B (0.50)\n",
      "  CE1  A (0.50) B (0.50)\n",
      "  NE2  A (0.50) B (0.50)\n",
      "GLN E493\n",
      "  CA   A (0.50) B (0.50)\n",
      "  CB   A (0.50) B (0.50)\n",
      "  CG   A (0.50) B (0.50)\n",
      "  CD   A (0.50) B (0.50)\n",
      "  OE1  A (0.50) B (0.50)\n",
      "  NE2  A (0.50) B (0.50)\n",
      "Selecting location occupancy\n"
     ]
    }
   ],
   "source": [
    "# It's necessary to select one of the alternatives for each residue\n",
    "st_c.altloc('occupancy')"
   ]
  },
  {
   "cell_type": "code",
   "execution_count": 54,
   "id": "5d1becee",
   "metadata": {},
   "outputs": [
    {
     "name": "stdout",
     "output_type": "stream",
     "text": [
      "Running altloc.\n",
      "No residues with alternative location labels detected\n"
     ]
    }
   ],
   "source": [
    "# Check again if there are still residues with alternative locations (coordinates) -> there should be no residues\n",
    "st_c.altloc()"
   ]
  },
  {
   "cell_type": "markdown",
   "id": "e3f289c5",
   "metadata": {},
   "source": [
    "#### Metals"
   ]
  },
  {
   "cell_type": "code",
   "execution_count": 55,
   "id": "9109210e",
   "metadata": {},
   "outputs": [
    {
     "name": "stdout",
     "output_type": "stream",
     "text": [
      "Running metals.\n",
      "1 Metal ions found\n",
      "  ZN A901.ZN \n"
     ]
    }
   ],
   "source": [
    "# Identify heteroatoms (HETATM) that are metal ions\n",
    "st_c.metals()"
   ]
  },
  {
   "cell_type": "code",
   "execution_count": 56,
   "id": "07093b67",
   "metadata": {},
   "outputs": [
    {
     "name": "stdout",
     "output_type": "stream",
     "text": [
      "Running ligands.\n",
      "7 Ligands detected\n",
      "  ZN A901\n",
      "  CL A902\n",
      " NAG A903\n",
      " NAG A904\n",
      " NAG A905\n",
      " NAG A906\n",
      " NAG E601\n"
     ]
    }
   ],
   "source": [
    "# Identify ligands (number of ligands and details of each one)\n",
    "st_c.ligands()"
   ]
  },
  {
   "cell_type": "code",
   "execution_count": 57,
   "id": "1a14b66d",
   "metadata": {},
   "outputs": [
    {
     "name": "stdout",
     "output_type": "stream",
     "text": [
      "Running ligands. Options: All\n",
      "7 Ligands detected\n",
      "  ZN A901\n",
      "  CL A902\n",
      " NAG A903\n",
      " NAG A904\n",
      " NAG A905\n",
      " NAG A906\n",
      " NAG E601\n",
      "Ligands removed All (7)\n"
     ]
    }
   ],
   "source": [
    "# Delete all the ligands identified with the previous command\n",
    "st_c.ligands('All')"
   ]
  },
  {
   "cell_type": "code",
   "execution_count": 58,
   "id": "d4a4c1c2",
   "metadata": {},
   "outputs": [
    {
     "name": "stdout",
     "output_type": "stream",
     "text": [
      "Running ligands.\n",
      "No ligands found\n"
     ]
    }
   ],
   "source": [
    "# Verify that ligands have been properly eliminated (no ligands should be found)\n",
    "st_c.ligands()"
   ]
  },
  {
   "cell_type": "code",
   "execution_count": 59,
   "id": "2278c4f8",
   "metadata": {},
   "outputs": [
    {
     "name": "stdout",
     "output_type": "stream",
     "text": [
      "Running rem_hydrogen.\n",
      "No residues with Hydrogen atoms found\n"
     ]
    }
   ],
   "source": [
    "# Eliminate hydrogen atoms\n",
    "st_c.rem_hydrogen()"
   ]
  },
  {
   "cell_type": "code",
   "execution_count": 60,
   "id": "5865aad2",
   "metadata": {},
   "outputs": [
    {
     "name": "stdout",
     "output_type": "stream",
     "text": [
      "Running water.\n",
      "80 Water molecules detected\n"
     ]
    }
   ],
   "source": [
    "# Identify water molecules present in the structure\n",
    "st_c.water()"
   ]
  },
  {
   "cell_type": "code",
   "execution_count": 61,
   "id": "4dbb9d5d",
   "metadata": {},
   "outputs": [
    {
     "name": "stdout",
     "output_type": "stream",
     "text": [
      "Running water. Options: yes\n",
      "80 Water molecules detected\n",
      "80 Water molecules removed\n"
     ]
    }
   ],
   "source": [
    "# Remove the identified water molecules\n",
    "st_c.water(\"yes\")"
   ]
  },
  {
   "cell_type": "code",
   "execution_count": 62,
   "id": "57fdc48c",
   "metadata": {},
   "outputs": [
    {
     "name": "stdout",
     "output_type": "stream",
     "text": [
      "Running amide.\n",
      "7 unusual contact(s) involving amide atoms found\n",
      " LYS A31.NZ   GLN E493.NE2    2.926 A\n",
      " GLN A42.NE2  GLN E498.NE2    2.927 A\n",
      " ASN A103.OD1 ASN A194.OD1    2.807 A\n",
      " ASN A134.OD1 GLU A140.OE2    2.785 A\n",
      " ASN A134.ND2 ASN A137.N      3.082 A\n",
      " GLU A150.O   ASN A154.OD1    2.895 A\n",
      " ARG E357.NH1 ASN E394.ND2    2.963 A\n",
      "Running amide. Options: all\n",
      "7 unusual contact(s) involving amide atoms found\n",
      " LYS A31.NZ   GLN E493.NE2    2.926 A\n",
      " GLN A42.NE2  GLN E498.NE2    2.927 A\n",
      " ASN A103.OD1 ASN A194.OD1    2.807 A\n",
      " ASN A134.OD1 GLU A140.OE2    2.785 A\n",
      " ASN A134.ND2 ASN A137.N      3.082 A\n",
      " GLU A150.O   ASN A154.OD1    2.895 A\n",
      " ARG E357.NH1 ASN E394.ND2    2.963 A\n",
      "Amide residues fixed all (8)\n",
      "Rechecking\n",
      "4 unusual contact(s) involving amide atoms found\n",
      " GLN A42.OE1  GLN E498.OE1    2.927 A\n",
      " ASN A103.ND2 ASN A194.ND2    2.807 A\n",
      " ARG E357.NH1 ASN E394.ND2    3.022 A\n",
      " ASN E394.OD1 GLU E516.OE2    2.850 A\n"
     ]
    }
   ],
   "source": [
    "# Detect amide atoms (unusual) contacts\n",
    "st_c.amide()\n",
    "st_c.amide('all')"
   ]
  },
  {
   "cell_type": "code",
   "execution_count": 63,
   "id": "666367e2",
   "metadata": {},
   "outputs": [
    {
     "name": "stdout",
     "output_type": "stream",
     "text": [
      "Running amide. Options: A42,A103\n",
      "4 unusual contact(s) involving amide atoms found\n",
      " GLN A42.OE1  GLN E498.OE1    2.927 A\n",
      " ASN A103.ND2 ASN A194.ND2    2.807 A\n",
      " ARG E357.NH1 ASN E394.ND2    3.022 A\n",
      " ASN E394.OD1 GLU E516.OE2    2.850 A\n",
      "Amide residues fixed A42,A103 (2)\n",
      "Rechecking\n",
      "2 unusual contact(s) involving amide atoms found\n",
      " ARG E357.NH1 ASN E394.ND2    3.022 A\n",
      " ASN E394.OD1 GLU E516.OE2    2.850 A\n",
      "Running amide. Options: E394\n",
      "2 unusual contact(s) involving amide atoms found\n",
      " ARG E357.NH1 ASN E394.ND2    3.022 A\n",
      " ASN E394.OD1 GLU E516.OE2    2.850 A\n",
      "Amide residues fixed E394 (1)\n",
      "Rechecking\n",
      "1 unusual contact(s) involving amide atoms found\n",
      " ARG E357.NH1 ASN E394.ND2    2.963 A\n"
     ]
    }
   ],
   "source": [
    "# Remove the unusual contacts\n",
    "st_c.amide('A42,A103')\n",
    "st_c.amide('E394')"
   ]
  },
  {
   "cell_type": "code",
   "execution_count": 64,
   "id": "8d4a33a7",
   "metadata": {},
   "outputs": [
    {
     "name": "stdout",
     "output_type": "stream",
     "text": [
      "Running chiral.\n",
      "No residues with incorrect side-chain chirality found\n"
     ]
    }
   ],
   "source": [
    "# Check if any residue's side chain has a wrong chirality\n",
    "st_c.chiral()"
   ]
  },
  {
   "cell_type": "code",
   "execution_count": 65,
   "id": "9edf8385",
   "metadata": {},
   "outputs": [
    {
     "name": "stdout",
     "output_type": "stream",
     "text": [
      "Running backbone.\n",
      "2 Residues with missing backbone atoms found\n",
      " ASP A615   OXT\n",
      " GLY E526   OXT\n",
      "No backbone breaks\n",
      "No unexpected backbone links\n"
     ]
    }
   ],
   "source": [
    "# Examine main chain and look for missing atoms, fragments and backbone breaks\n",
    "st_c.backbone()"
   ]
  },
  {
   "cell_type": "code",
   "execution_count": 66,
   "id": "0cb35616",
   "metadata": {},
   "outputs": [
    {
     "name": "stdout",
     "output_type": "stream",
     "text": [
      "Running backbone. Options: --fix_atoms All --fix_chain none --add_caps none\n",
      "2 Residues with missing backbone atoms found\n",
      " ASP A615   OXT\n",
      " GLY E526   OXT\n",
      "No backbone breaks\n",
      "No unexpected backbone links\n",
      "Capping terminal ends\n",
      "True terminal residues:  A19,A615,E333,E526\n",
      "No caps added\n",
      "Fixing missing backbone atoms\n",
      "Adding missing backbone atoms\n",
      "ASP A615\n",
      "  Adding new atom OXT\n",
      "GLY E526\n",
      "  Adding new atom OXT\n",
      "Fixed 2 backbone atom(s)\n",
      "Checking for steric clashes\n",
      "No severe clashes detected\n",
      "No apolar clashes detected\n",
      "No polar_acceptor clashes detected\n",
      "No polar_donor clashes detected\n",
      "No positive clashes detected\n",
      "No negative clashes detected\n"
     ]
    }
   ],
   "source": [
    "# Fix the missing atoms\n",
    "st_c.backbone('--fix_atoms All --fix_chain none --add_caps none')"
   ]
  },
  {
   "cell_type": "code",
   "execution_count": 67,
   "id": "4c77a867",
   "metadata": {},
   "outputs": [
    {
     "name": "stdout",
     "output_type": "stream",
     "text": [
      "Running fixside.\n",
      "No residues with missing or unknown side chain atoms found\n"
     ]
    }
   ],
   "source": [
    "# Examine again the main chain and check there are no longer missing atoms, fragments or backbone breaks\n",
    "st_c.fixside()"
   ]
  },
  {
   "cell_type": "code",
   "execution_count": 68,
   "id": "df555be6",
   "metadata": {},
   "outputs": [
    {
     "name": "stdout",
     "output_type": "stream",
     "text": [
      "Running getss.\n",
      "7 Possible SS Bonds detected\n",
      " CYS A133.SG  CYS A141.SG     4.237\n",
      " CYS A344.SG  CYS A361.SG     4.159\n",
      " CYS A530.SG  CYS A542.SG     4.095\n",
      " CYS E336.SG  CYS E361.SG     4.152\n",
      " CYS E379.SG  CYS E432.SG     4.177\n",
      " CYS E391.SG  CYS E525.SG     4.191\n",
      " CYS E480.SG  CYS E488.SG     4.269\n",
      "Running getss. Options: all\n",
      "7 Possible SS Bonds detected\n",
      " CYS A133.SG  CYS A141.SG     4.237\n",
      " CYS A344.SG  CYS A361.SG     4.159\n",
      " CYS A530.SG  CYS A542.SG     4.095\n",
      " CYS E336.SG  CYS E361.SG     4.152\n",
      " CYS E379.SG  CYS E432.SG     4.177\n",
      " CYS E391.SG  CYS E525.SG     4.191\n",
      " CYS E480.SG  CYS E488.SG     4.269\n"
     ]
    }
   ],
   "source": [
    "# Identify SS bonds (disulfide bridges)\n",
    "st_c.getss()\n",
    "st_c.getss('all')"
   ]
  },
  {
   "cell_type": "code",
   "execution_count": 69,
   "id": "a119d05b",
   "metadata": {},
   "outputs": [
    {
     "name": "stdout",
     "output_type": "stream",
     "text": [
      "Running add_hydrogen.\n",
      "226 Residues requiring selection on adding H atoms\n",
      " CYS A261,A498\n",
      " ASP A30,A38,A67,A111,A136,A157,A198,A201,A206,A213,A216,A225,A269,A292,A295,A299,A303,A335,A350,A355,A367,A368,A382,A427,A431,A471,A494,A499,A509,A543,A597,A609,E364,E389,E398,E405,E420,E427,E428,E442,E467\n",
      " GLU A22,A23,A35,A37,A56,A57,A75,A87,A110,A140,A145,A150,A160,A166,A171,A181,A182,A189,A197,A208,A224,A227,A231,A232,A238,A310,A312,A329,A375,A398,A402,A406,A430,A433,A435,A457,A467,A479,A483,A489,A495,A527,A536,A549,A564,A571,A589,E340,E406,E465,E471,E484,E516\n",
      " HIS A34,A195,A228,A239,A241,A265,A345,A373,A374,A378,A401,A417,A493,A505,A535,A540,E519\n",
      " LYS A26,A31,A68,A74,A94,A112,A114,A131,A174,A187,A234,A247,A288,A309,A313,A341,A353,A363,A416,A419,A441,A458,A465,A470,A475,A476,A481,A534,A541,A553,A562,A577,A596,A600,E356,E378,E386,E417,E424,E444,E458,E462\n",
      " ARG A115,A161,A169,A177,A192,A204,A219,A245,A273,A306,A357,A393,A460,A482,A514,A518,A559,A582,E346,E355,E357,E403,E408,E454,E457,E466,E509\n",
      " TYR A41,A50,A83,A127,A158,A180,A183,A196,A199,A202,A207,A215,A217,A237,A243,A252,A255,A279,A381,A385,A454,A497,A510,A515,A516,A521,A587,A613,E351,E365,E369,E380,E396,E421,E423,E449,E451,E453,E473,E489,E495,E505,E508\n",
      "Running add_hydrogen. Options: auto\n",
      "226 Residues requiring selection on adding H atoms\n",
      " CYS A261,A498\n",
      " ASP A30,A38,A67,A111,A136,A157,A198,A201,A206,A213,A216,A225,A269,A292,A295,A299,A303,A335,A350,A355,A367,A368,A382,A427,A431,A471,A494,A499,A509,A543,A597,A609,E364,E389,E398,E405,E420,E427,E428,E442,E467\n",
      " GLU A22,A23,A35,A37,A56,A57,A75,A87,A110,A140,A145,A150,A160,A166,A171,A181,A182,A189,A197,A208,A224,A227,A231,A232,A238,A310,A312,A329,A375,A398,A402,A406,A430,A433,A435,A457,A467,A479,A483,A489,A495,A527,A536,A549,A564,A571,A589,E340,E406,E465,E471,E484,E516\n",
      " HIS A34,A195,A228,A239,A241,A265,A345,A373,A374,A378,A401,A417,A493,A505,A535,A540,E519\n",
      " LYS A26,A31,A68,A74,A94,A112,A114,A131,A174,A187,A234,A247,A288,A309,A313,A341,A353,A363,A416,A419,A441,A458,A465,A470,A475,A476,A481,A534,A541,A553,A562,A577,A596,A600,E356,E378,E386,E417,E424,E444,E458,E462\n",
      " ARG A115,A161,A169,A177,A192,A204,A219,A245,A273,A306,A357,A393,A460,A482,A514,A518,A559,A582,E346,E355,E357,E403,E408,E454,E457,E466,E509\n",
      " TYR A41,A50,A83,A127,A158,A180,A183,A196,A199,A202,A207,A215,A217,A237,A243,A252,A255,A279,A381,A385,A454,A497,A510,A515,A516,A521,A587,A613,E351,E365,E369,E380,E396,E421,E423,E449,E451,E453,E473,E489,E495,E505,E508\n",
      "WARNING: fixing side chains, override with --no_fix_side\n",
      "Running fixside. Options: --fix all\n",
      "No residues with missing or unknown side chain atoms found\n",
      "Selection: auto\n",
      "Replacing HIS A34 by HIE\n",
      "Replacing HIS A195 by HIE\n",
      "Replacing HIS A228 by HIE\n",
      "Replacing HIS A239 by HIE\n",
      "Replacing HIS A241 by HIE\n",
      "Replacing HIS A265 by HIE\n",
      "Replacing HIS A345 by HIE\n",
      "Replacing HIS A373 by HIE\n",
      "Replacing HIS A374 by HIE\n",
      "Replacing HIS A378 by HIE\n",
      "Replacing HIS A401 by HIE\n",
      "Replacing HIS A417 by HIE\n",
      "Replacing HIS A493 by HIE\n",
      "Replacing HIS A505 by HIE\n",
      "Replacing HIS A535 by HIE\n",
      "Replacing HIS A540 by HIE\n",
      "Replacing HIS E519 by HIE\n"
     ]
    }
   ],
   "source": [
    "# Add hydrogen atoms (H) to the residues requiring them\n",
    "st_c.add_hydrogen()\n",
    "st_c.add_hydrogen('auto') # auto mode:std changes at pH 7.0"
   ]
  },
  {
   "cell_type": "code",
   "execution_count": 70,
   "id": "87b74898",
   "metadata": {},
   "outputs": [
    {
     "name": "stdout",
     "output_type": "stream",
     "text": [
      "Running clashes.\n",
      "No severe clashes detected\n",
      "4 Steric apolar clashes detected\n",
      " HIE A34.CD2  TYR E453.OH     2.860 A\n",
      " ASN A121.O   THR A125.CG2    2.890 A\n",
      " LEU A333.C   MET A360.O      2.881 A\n",
      " TYR E380.O   THR E430.C      2.758 A\n",
      "5 Steric polar_acceptor clashes detected\n",
      " MET A152.O   GLY A268.O      3.063 A\n",
      " LEU A333.O   MET A360.O      2.881 A\n",
      " TYR E351.O   ASP E467.O      3.074 A\n",
      " TYR E380.O   THR E430.O      2.728 A\n",
      " GLY E485.O   CYX E488.O      3.046 A\n",
      "1 Steric polar_donor clashes detected\n",
      " ARG E357.NH1 ASN E394.ND2    2.963 A\n",
      "No positive clashes detected\n",
      "No negative clashes detected\n"
     ]
    }
   ],
   "source": [
    "# Check the steric clashes (Severe, Apolar, Polar Donors, Polar Acceptors, Ionic Positive, Ionic Negative)\n",
    "st_c.clashes()"
   ]
  },
  {
   "cell_type": "code",
   "execution_count": 71,
   "id": "f37a0366",
   "metadata": {},
   "outputs": [
    {
     "name": "stdout",
     "output_type": "stream",
     "text": [
      "Running models.\n",
      "1 Model(s) detected\n",
      "Single model found\n",
      "Running chains.\n",
      "2 Chain(s) detected\n",
      " A: Protein\n",
      " E: Protein\n",
      "Running inscodes.\n",
      "No residues with insertion codes found\n",
      "Running altloc.\n",
      "No residues with alternative location labels detected\n",
      "Running rem_hydrogen.\n",
      "791 Residues containing H atoms detected\n",
      "Running add_hydrogen.\n",
      "209 Residues requiring selection on adding H atoms\n",
      " CYS A261,A498\n",
      " ASP A30,A38,A67,A111,A136,A157,A198,A201,A206,A213,A216,A225,A269,A292,A295,A299,A303,A335,A350,A355,A367,A368,A382,A427,A431,A471,A494,A499,A509,A543,A597,A609,A615,E364,E389,E398,E405,E420,E427,E428,E442,E467\n",
      " GLU A22,A23,A35,A37,A56,A57,A75,A87,A110,A140,A145,A150,A160,A166,A171,A181,A182,A189,A197,A208,A224,A227,A231,A232,A238,A310,A312,A329,A375,A398,A402,A406,A430,A433,A435,A457,A467,A479,A483,A489,A495,A527,A536,A549,A564,A571,A589,E340,E406,E465,E471,E484,E516\n",
      " LYS A26,A31,A68,A74,A94,A112,A114,A131,A174,A187,A234,A247,A288,A309,A313,A341,A353,A363,A416,A419,A441,A458,A465,A470,A475,A476,A481,A534,A541,A553,A562,A577,A596,A600,E356,E378,E386,E417,E424,E444,E458,E462\n",
      " ARG A115,A161,A169,A177,A192,A204,A219,A245,A273,A306,A357,A393,A460,A482,A514,A518,A559,A582,E346,E355,E357,E403,E408,E454,E457,E466,E509\n",
      " TYR A41,A50,A83,A127,A158,A180,A183,A196,A199,A202,A207,A215,A217,A237,A243,A252,A255,A279,A381,A385,A454,A497,A510,A515,A516,A521,A587,A613,E351,E365,E369,E380,E396,E421,E423,E449,E451,E453,E473,E489,E495,E505,E508\n",
      "Running water.\n",
      "No water molecules found\n",
      "Running metals.\n",
      "No metal ions found\n",
      "Running ligands.\n",
      "No ligands found\n",
      "Running getss.\n",
      "7 Possible SS Bonds detected\n",
      " CYX A133.SG  CYX A141.SG     4.237\n",
      " CYX A344.SG  CYX A361.SG     4.159\n",
      " CYX A530.SG  CYX A542.SG     4.095\n",
      " CYX E336.SG  CYX E361.SG     4.152\n",
      " CYX E379.SG  CYX E432.SG     4.177\n",
      " CYX E391.SG  CYX E525.SG     4.191\n",
      " CYX E480.SG  CYX E488.SG     4.269\n",
      "Running amide.\n",
      "1 unusual contact(s) involving amide atoms found\n",
      " ARG E357.NH1 ASN E394.ND2    2.963 A\n",
      "Running chiral.\n",
      "No residues with incorrect side-chain chirality found\n",
      "Running chiral_bck.\n",
      "No residues with incorrect backbone chirality found\n",
      "Running fixside.\n",
      "No residues with missing or unknown side chain atoms found\n",
      "Running backbone.\n",
      "No residues with missing backbone atoms found\n",
      "No backbone breaks\n",
      "No unexpected backbone links\n",
      "Running cistransbck.\n",
      "1 cis peptide bonds\n",
      "GLU A145   PRO A146   Dihedral:   -4.808\n",
      "No trans peptide bonds with unusual omega dihedrals found\n",
      "Running clashes.\n",
      "No severe clashes detected\n",
      "4 Steric apolar clashes detected\n",
      " HIE A34.CD2  TYR E453.OH     2.860 A\n",
      " ASN A121.O   THR A125.CG2    2.890 A\n",
      " LEU A333.C   MET A360.O      2.881 A\n",
      " TYR E380.O   THR E430.C      2.758 A\n",
      "5 Steric polar_acceptor clashes detected\n",
      " MET A152.O   GLY A268.O      3.063 A\n",
      " LEU A333.O   MET A360.O      2.881 A\n",
      " TYR E351.O   ASP E467.O      3.074 A\n",
      " TYR E380.O   THR E430.O      2.728 A\n",
      " GLY E485.O   CYX E488.O      3.046 A\n",
      "1 Steric polar_donor clashes detected\n",
      " ARG E357.NH1 ASN E394.ND2    2.963 A\n",
      "No positive clashes detected\n",
      "No negative clashes detected\n",
      "Running sequences.\n",
      "Canonical sequence\n",
      ">can_sq_A canonical sequence chain A\n",
      "STIEEQAKTFLDKFNHEAEDLFYQSSLASWNYNTNITEENVQNMNNAGDKWSAFLKEQST\n",
      "LAQMYPLQEIQNLTVKLQLQALQQNGSSVLSEDKSKRLNTILNTMSTIYSTGKVCNPDNP\n",
      "QECLLLEPGLNEIMANSLDYNERLWAWESWRSEVGKQLRPLYEEYVVLKNEMARANHYED\n",
      "YGDYWRGDYEVNGVDGYDYSRGQLIEDVEHTFEEIKPLYEHLHAYVRAKLMNAYPSYISP\n",
      "IGCLPAHLLGDMWGRFWTNLYSLTVPFGQKPNIDVTDAMVDQAWDAQRIFKEAEKFFVSV\n",
      "GLPNMTQGFWENSMLTDPGNVQKAVCHPTAWDLGKGDFRILMCTKVTMDDFLTAHHEMGH\n",
      "IQYDMAYAAQPFLLRNGANEGFHEAVGEIMSLSAATPKHLKSIGLLSPDFQEDNETEINF\n",
      "LLKQALTIVGTLPFTYMLEKWRWMVFKGEIPKDQWMKKWWEMKREIVGVVEPVPHDETYC\n",
      "DPASLFHVSNDYSFIRYYTRTLYQFQFQEALCQAAKHEGPLHKCDISNSTEAGQKLFNML\n",
      "RLGKSEPWTLALENVVGAKNMNVRPLLNYFEPLFTWLKDQNKNSFVGWSTDWSPYADHHH\n",
      "HHH\n",
      ">can_sq_E canonical sequence chain E\n",
      "RVQPTESIVRFPNITNLCPFGEVFNATRFASVYAWNRKRISNCVADYSVLYNSASFSTFK\n",
      "CYGVSPTKLNDLCFTNVYADSFVIRGDEVRQIAPGQTGKIADYNYKLPDDFTGCVIAWNS\n",
      "NNLDSKVGGNYNYLYRLFRKSNLKPFERDISTEIYQAGSTPCNGVEGFNCYFPLQSYGFQ\n",
      "PTNGVGYQPYRVVVLSFELLHAPATVCGPKKSTNLVKNKCVNFHHHHHH\n",
      "\n",
      "Structure sequence\n",
      ">pdb_sq_A Frags: 134-140,142-343,345-360,362-529,531-541,543-614\n",
      "STIEEQAKTFLDKFNHEAEDLFYQSSLASWNYNTNITEENVQNMNNAGDKWSAFLKEQST\n",
      "LAQMYPLQEIQNLTVKLQLQALQQNGSSVLSEDKSKRLNTILNTMSTIYSTGKV-NPDNP\n",
      "QE-LLLEPGLNEIMANSLDYNERLWAWESWRSEVGKQLRPLYEEYVVLKNEMARANHYED\n",
      "YGDYWRGDYEVNGVDGYDYSRGQLIEDVEHTFEEIKPLYEHLHAYVRAKLMNAYPSYISP\n",
      "IGCLPAHLLGDMWGRFWTNLYSLTVPFGQKPNIDVTDAMVDQAWDAQRIFKEAEKFFVSV\n",
      "GLPNMTQGFWENSMLTDPGNVQKAV-HPTAWDLGKGDFRILM-TKVTMDDFLTAHHEMGH\n",
      "IQYDMAYAAQPFLLRNGANEGFHEAVGEIMSLSAATPKHLKSIGLLSPDFQEDNETEINF\n",
      "LLKQALTIVGTLPFTYMLEKWRWMVFKGEIPKDQWMKKWWEMKREIVGVVEPVPHDETYC\n",
      "DPASLFHVSNDYSFIRYYTRTLYQFQFQEAL-QAAKHEGPLHK-DISNSTEAGQKLFNML\n",
      "RLGKSEPWTLALENVVGAKNMNVRPLLNYFEPLFTWLKDQNKNSFVGWSTDWSPYA----\n",
      "---\n",
      ">pdb_sq_E Frags: 337-360,362-378,380-390,392-431,433-479,481-487,489-524\n",
      "---------------TNLPFGEVFNATRFASVYAWNRKRISN-VADYSVLYNSASFSTFK\n",
      "-YGVSPTKLNDL-FTNVYADSFVIRGDEVRQIAPGQTGKIADYNYKLPDDFTG-VIAWNS\n",
      "NNLDSKVGGNYNYLYRLFRKSNLKPFERDISTEIYQAGSTP-NGVEGFN-YFPLQSYGFQ\n",
      "PTNGVGYQPYRVVVLSFELLHAPATV-----------------------\n",
      "\n"
     ]
    }
   ],
   "source": [
    "# Perform all checks without fixes\n",
    "st_c.checkall()"
   ]
  },
  {
   "cell_type": "code",
   "execution_count": 72,
   "id": "a98b3916",
   "metadata": {},
   "outputs": [
    {
     "data": {
      "text/plain": [
       "'/home/nuria/Documents/Bioinformatics/Biophysics/Project/Tries_script/6m0j_fixed.pdb'"
      ]
     },
     "execution_count": 72,
     "metadata": {},
     "output_type": "execute_result"
    }
   ],
   "source": [
    "# Save the fixed structure in a new pdb file\n",
    "st_c._save_structure(args['output_structure_path'])"
   ]
  },
  {
   "cell_type": "code",
   "execution_count": 73,
   "id": "edf91a61",
   "metadata": {},
   "outputs": [
    {
     "name": "stdout",
     "output_type": "stream",
     "text": [
      "Running rem_hydrogen. Options: yes\n",
      "791 Residues containing H atoms detected\n",
      "Hydrogen atoms removed from 791 residues\n"
     ]
    }
   ],
   "source": [
    "# Remove Hydrogen atoms from structure\n",
    "st_c.rem_hydrogen('yes')"
   ]
  },
  {
   "cell_type": "code",
   "execution_count": 74,
   "id": "c36d97d2",
   "metadata": {},
   "outputs": [
    {
     "name": "stdout",
     "output_type": "stream",
     "text": [
      "===============================================================================\n",
      "=                   BioBB structure checking utility v3.9.1                   =\n",
      "=                 A. Hospital, P. Andrio, J.L. Gelpi 2018-21                  =\n",
      "===============================================================================\n",
      "\n",
      "Warning: sequence features only available in mmCIF format or with external fasta input\n",
      "Structure /home/nuria/Documents/Bioinformatics/Biophysics/Project/Tries_script/6m0j_fixed.pdb loaded\n",
      " Title: \n",
      " Experimental method: unknown\n",
      " Resolution (A): N.A.\n",
      "\n",
      " Num. models: 1\n",
      " Num. chains: 2 (A: Protein, E: Protein)\n",
      " Num. residues:  791\n",
      " Num. residues with ins. codes:  0\n",
      " Num. HETATM residues:  0\n",
      " Num. ligands or modified residues:  0\n",
      " Num. water mol.:  0\n",
      " Num. atoms:  12510\n",
      "\n",
      "Running add_hydrogen. Options: --add_charges --add_mode auto\n",
      "209 Residues requiring selection on adding H atoms\n",
      " CYS A261,A498\n",
      " ASP A30,A38,A67,A111,A136,A157,A198,A201,A206,A213,A216,A225,A269,A292,A295,A299,A303,A335,A350,A355,A367,A368,A382,A427,A431,A471,A494,A499,A509,A543,A597,A609,A615,E364,E389,E398,E405,E420,E427,E428,E442,E467\n",
      " GLU A22,A23,A35,A37,A56,A57,A75,A87,A110,A140,A145,A150,A160,A166,A171,A181,A182,A189,A197,A208,A224,A227,A231,A232,A238,A310,A312,A329,A375,A398,A402,A406,A430,A433,A435,A457,A467,A479,A483,A489,A495,A527,A536,A549,A564,A571,A589,E340,E406,E465,E471,E484,E516\n",
      " LYS A26,A31,A68,A74,A94,A112,A114,A131,A174,A187,A234,A247,A288,A309,A313,A341,A353,A363,A416,A419,A441,A458,A465,A470,A475,A476,A481,A534,A541,A553,A562,A577,A596,A600,E356,E378,E386,E417,E424,E444,E458,E462\n",
      " ARG A115,A161,A169,A177,A192,A204,A219,A245,A273,A306,A357,A393,A460,A482,A514,A518,A559,A582,E346,E355,E357,E403,E408,E454,E457,E466,E509\n",
      " TYR A41,A50,A83,A127,A158,A180,A183,A196,A199,A202,A207,A215,A217,A237,A243,A252,A255,A279,A381,A385,A454,A497,A510,A515,A516,A521,A587,A613,E351,E365,E369,E380,E396,E421,E423,E449,E451,E453,E473,E489,E495,E505,E508\n"
     ]
    },
    {
     "name": "stderr",
     "output_type": "stream",
     "text": [
      "usage: add_hydrogen [-h] [--add_mode ADD_MODE] [--pH PH] [--list LIST]\n",
      "                    [--no_fix_side] [--keep_h] [--add_charges ADD_CHARGES]\n",
      "add_hydrogen: error: argument --add_charges: expected one argument\n"
     ]
    },
    {
     "data": {
      "text/plain": [
       "512"
      ]
     },
     "execution_count": 74,
     "metadata": {},
     "output_type": "execute_result"
    }
   ],
   "source": [
    "# General Quality checking\n",
    "\n",
    "#st_c.add_hydrogen('--add_charges --add_mode auto')\n",
    "#Alternative way calling through command line\n",
    "import os\n",
    "os.system('check_structure -i ' + args['output_structure_path'] + ' -o ' + args['output_structure_path_charges'] + ' add_hydrogen --add_charges --add_mode auto')"
   ]
  },
  {
   "cell_type": "markdown",
   "id": "db1048b4",
   "metadata": {},
   "source": [
    "# 1. DETERMINE INTERFACE RESIDUES"
   ]
  },
  {
   "cell_type": "code",
   "execution_count": 75,
   "id": "58af28e0",
   "metadata": {},
   "outputs": [],
   "source": [
    "# Imports required for this section\n",
    "import argparse\n",
    "import sys\n",
    "import os\n",
    "import math\n",
    "\n",
    "from Bio.PDB.PDBParser import PDBParser\n",
    "from Bio.PDB.NACCESS import NACCESS_atomic\n",
    "from Bio.PDB.NeighborSearch import NeighborSearch\n",
    "from Bio.PDB.PDBIO import PDBIO, Select"
   ]
  },
  {
   "cell_type": "code",
   "execution_count": 76,
   "id": "484f0779",
   "metadata": {},
   "outputs": [],
   "source": [
    "# Definition of the function 'get_interface', which returns the interface residues within a given distance.\n",
    "def get_interface(st, dist):\n",
    "    ''' Detects interface residues within a distance (parameter 'dist'). Assumes two chains.\n",
    "        The output is a dictionary whose entries consist on the name of the chain as key and the set\n",
    "        containing the corresponding interface residues as value.\n",
    "    '''\n",
    "    select_ats = []\n",
    "    for at in st.get_atoms():\n",
    "        # Skip Hydrogens to reduce time\n",
    "        if at.element != 'H':\n",
    "            select_ats.append(at)\n",
    "    nbsearch = NeighborSearch(select_ats)\n",
    "    interface = {}\n",
    "    # Sets are more efficient than lists. Use sets when order is not relevant\n",
    "    for ch in st[0]:\n",
    "        interface[ch.id] = set()\n",
    "\n",
    "    for at1, at2 in nbsearch.search_all(dist):\n",
    "        #Only different chains\n",
    "        res1 = at1.get_parent()\n",
    "        ch1 = res1.get_parent()\n",
    "        res2 = at2.get_parent()\n",
    "        ch2 = res2.get_parent()\n",
    "        if ch1 != ch2:\n",
    "            interface[ch1.id].add(res1)\n",
    "            interface[ch2.id].add(res2)\n",
    "    return interface"
   ]
  },
  {
   "cell_type": "code",
   "execution_count": 77,
   "id": "9eadd6b1",
   "metadata": {},
   "outputs": [],
   "source": [
    "# set the Bio.PDB.Parser object\n",
    "parser = PDBParser(PERMISSIVE=1)\n",
    "\n",
    "# set the pdb_path and load the structure (i.e., load the pdb file generated in step \"0.PREPARATION & DATA CURATION\")\n",
    "pdb_path = base_path + '6m0j_fixed.pdb'\n",
    "st = parser.get_structure('st', pdb_path)\n",
    "\n",
    "# Apply the get_interface function to the fixed pdb structure (output of step \"0.PREPARATION & DATA CURATION\")\n",
    "interface = get_interface(st, cutoff) # 'cutoff' is a customizable parameter at the beginning of the script"
   ]
  },
  {
   "cell_type": "markdown",
   "id": "352047d6",
   "metadata": {},
   "source": [
    "# 2. COMPUTING INTERACTION ENERGIES"
   ]
  },
  {
   "cell_type": "code",
   "execution_count": 78,
   "id": "cb98010c",
   "metadata": {},
   "outputs": [],
   "source": [
    "# Imports required for this section\n",
    "import csv # will allow the generate the output csv files"
   ]
  },
  {
   "cell_type": "code",
   "execution_count": 79,
   "id": "c92886e5",
   "metadata": {},
   "outputs": [],
   "source": [
    "# Define some classes needed for computing the interaction energies and load the parameter libraries\n",
    "\n",
    "class ResiduesDataLib():\n",
    "    def __init__(self, fname):\n",
    "        self.residue_data = {}\n",
    "        try:\n",
    "            fh = open(fname, \"r\")\n",
    "        except OSError:\n",
    "            print(\"#ERROR while loading library file (\", fname, \")\")\n",
    "            sys.exit(2)\n",
    "        for line in fh:\n",
    "            if line[0] == '#':\n",
    "                continue\n",
    "            data = line.split()\n",
    "            r = Residue(data)\n",
    "            self.residue_data[r.id] = r\n",
    "        self.nres = len(self.residue_data)\n",
    "\n",
    "    def get_params(self, resid, atid):\n",
    "        atom_id = resid + ':' + atid\n",
    "        if atom_id in self.residue_data:\n",
    "            return self.residue_data[atom_id]\n",
    "        else:\n",
    "            print(\"WARNING: atom not found in library (\", atom_id, ')')\n",
    "            return None\n",
    "\n",
    "class Residue():\n",
    "    def __init__(self,data):\n",
    "        self.id     = data[0]+':'+data[1]\n",
    "        self.at_type = data[2]\n",
    "        self.charge  = float(data[3])\n",
    "        \n",
    "class AtomType():\n",
    "    def __init__(self, data):\n",
    "        self.id   = data[0]\n",
    "        self.eps  = float(data[1])\n",
    "        self.sig  = float(data[2])\n",
    "        self.mass = float(data[3])\n",
    "        self.fsrf = float(data[4])\n",
    "        self.rvdw = self.sig * 0.5612\n",
    "        \n",
    "class VdwParamset(): #parameters for the VdW\n",
    "    def __init__ (self, file_name):\n",
    "        self.at_types = {}\n",
    "        try:\n",
    "            fh = open(file_name, \"r\")\n",
    "        except OSError:\n",
    "            print (\"#ERROR while loading parameter file (\", file_name, \")\")\n",
    "            sys.exit(2)\n",
    "        for line in fh:\n",
    "            if line[0] == '#':\n",
    "                continue\n",
    "            data = line.split()\n",
    "            self.at_types[data[0]] = AtomType(data)\n",
    "        self.ntypes = len(self.at_types)\n",
    "        fh.close()\n",
    "\n",
    "# set the residue_path and load the residue library (aaLib_2.lib) using the 'ResiduesDataLib' class defined above\n",
    "residue_lib_path = base_path + 'aaLib_2.lib'\n",
    "residue_library = ResiduesDataLib(residue_lib_path)\n",
    "\n",
    "# set the ff_params_path and load the VdW parameters (vdwprm) using the 'VdwParamset' class defined above\n",
    "ff_params_path = base_path + 'vdwprm'\n",
    "ff_params = VdwParamset(ff_params_path)    "
   ]
  },
  {
   "cell_type": "code",
   "execution_count": 80,
   "id": "874e39c8",
   "metadata": {},
   "outputs": [],
   "source": [
    "# Define 'add_atom_parameters function', which adds to each atom its corresponding parameters/arguments\n",
    "def add_atom_parameters(st, res_lib, ff_params):\n",
    "    ''' \n",
    "    Adds parameters from libraries (res_lib and ff_params) to atom .xtra field\n",
    "    For not recognized atoms, issues a warning and put default parameters\n",
    "    These parameters (e.g. atom charge) are necessary for posterior energy computations\n",
    "    '''\n",
    "    for at in st.get_atoms():\n",
    "        resname = at.get_parent().get_resname()\n",
    "        params = res_lib.get_params(resname, at.id)\n",
    "        if not params:\n",
    "            #print(\"WARNING: residue/atom pair not in library (\"+atom_id(at) + ')')\n",
    "            at.xtra['atom_type'] = at.element\n",
    "            at.xtra['charge'] = 0\n",
    "        else:\n",
    "            at.xtra['atom_type'] = params.at_type\n",
    "            at.xtra['charge'] = params.charge\n",
    "        at.xtra['vdw'] = ff_params.at_types[at.xtra['atom_type']]"
   ]
  },
  {
   "cell_type": "code",
   "execution_count": 81,
   "id": "1ad92e86",
   "metadata": {},
   "outputs": [
    {
     "name": "stdout",
     "output_type": "stream",
     "text": [
      "WARNING: atom not found in library ( GLY:OXT )\n"
     ]
    },
    {
     "data": {
      "text/plain": [
       "'\\nNote: the warning \"WARNING: atom not found in library ( GLY:OXT )\" is expected to appear\\n'"
      ]
     },
     "execution_count": 81,
     "metadata": {},
     "output_type": "execute_result"
    }
   ],
   "source": [
    "# Apply the function 'add_atom_parameters' to the structure of interest, using the previously loaded parameter libraries\n",
    "add_atom_parameters(st, residue_library, ff_params)\n",
    "'''\n",
    "Note: the warning \"WARNING: atom not found in library ( GLY:OXT )\" is expected to appear\n",
    "'''"
   ]
  },
  {
   "cell_type": "code",
   "execution_count": 82,
   "id": "08468f6c",
   "metadata": {},
   "outputs": [],
   "source": [
    "# Define functions to calculate interaction energies\n",
    "def MH_diel(r):\n",
    "    '''to calculate the Mehler-Solmajer dielectric constant'''\n",
    "    return 86.9525 / (1 - 7.7839 * math.exp(-0.3153 * r)) - 8.5525\n",
    "\n",
    "def elec_int(at1, at2, r):\n",
    "    '''Electrostatic interaction energy between two atoms at r distance'''\n",
    "    return 332.16 * at1.xtra['charge'] * at2.xtra['charge'] / MH_diel(r) / r\n",
    "\n",
    "def vdw_int(at1, at2, r):\n",
    "    '''Vdw interaction energy between two atoms'''\n",
    "    eps12 = math.sqrt(at1.xtra['vdw'].eps * at2.xtra['vdw'].eps)\n",
    "    sig12_2 = at1.xtra['vdw'].sig * at2.xtra['vdw'].sig\n",
    "    return 4 * eps12 * (sig12_2**6/r**12 - sig12_2**3/r**6)\n",
    "\n",
    "def calc_int_energies(st, res):\n",
    "    '''Returns interaction energies (residue against other chains) for all atoms'''\n",
    "    elec = 0.\n",
    "    vdw = 0.\n",
    "\n",
    "    for at1 in res.get_atoms():\n",
    "        for at2 in st.get_atoms():\n",
    "        # skip same chain atom pairs\n",
    "            if at2.get_parent().get_parent() != res.get_parent():\n",
    "                r = at1 - at2\n",
    "                e = elec_int(at1, at2, r)\n",
    "                elec += e\n",
    "                e = vdw_int(at1, at2, r)\n",
    "                vdw += e\n",
    "    return elec, vdw\n",
    "\n",
    "def calc_solvation(st, res):\n",
    "    '''Solvation energy based on ASA'''\n",
    "    solv = 0.\n",
    "    for at in res.get_atoms():\n",
    "        if 'EXP_NACCESS' not in at.xtra:\n",
    "            continue\n",
    "        s = float(at.xtra['EXP_NACCESS'])* at.xtra['vdw'].fsrf\n",
    "        solv += s\n",
    "    return solv"
   ]
  },
  {
   "cell_type": "code",
   "execution_count": 83,
   "id": "1308cbce",
   "metadata": {},
   "outputs": [
    {
     "name": "stdout",
     "output_type": "stream",
     "text": [
      "WARNING: atom not found in library ( GLY:OXT )\n"
     ]
    }
   ],
   "source": [
    "# Surface areas calculation using NACCES\n",
    "\n",
    "NACCESS_BINARY = base_path + 'NACCESS/naccess'\n",
    "\n",
    "srf = NACCESS_atomic(st[0], naccess_binary=NACCESS_BINARY)\n",
    "io = PDBIO()\n",
    "st_chains = {}\n",
    "# Using BioIO trick (see tutorial) to select chains\n",
    "class SelectChain(Select):\n",
    "    def __init__(self, chid):\n",
    "        self.id = chid\n",
    "\n",
    "    def accept_chain(self, chain):\n",
    "        if chain.id == self.id:\n",
    "            return 1\n",
    "        else:\n",
    "            return 0\n",
    "\n",
    "for ch in st[0]:\n",
    "    io.set_structure(st)\n",
    "    io.save('tmp.pdb', SelectChain(ch.id))\n",
    "    st_chains[ch.id] = parser.get_structure('stA', 'tmp.pdb')\n",
    "    add_atom_parameters(st_chains[ch.id], residue_library, ff_params)\n",
    "    srfA = NACCESS_atomic(st_chains[ch.id][0], naccess_binary=NACCESS_BINARY)\n",
    "os.remove('tmp.pdb')"
   ]
  },
  {
   "cell_type": "code",
   "execution_count": 84,
   "id": "e047d649",
   "metadata": {},
   "outputs": [],
   "source": [
    "# COMPUTE THE ENERGIES FOR INTERFACE RESIDUES\n",
    "\n",
    "cutoff_dist = cutoff # the customizable distance cutoff will be used\n",
    "\n",
    "## Initiatlize Energy aggregates\n",
    "elec = {}\n",
    "vdw = {}\n",
    "solvAB = {}\n",
    "solvA = {}\n",
    "totalIntElec = 0.\n",
    "totalIntVdw = 0.\n",
    "totalSolv = 0.\n",
    "totalSolvMon = {}\n",
    "\n",
    "## We get the chsin ids,not always they are A and B\n",
    "chids = []\n",
    "for ch in st[0]:\n",
    "    chids.append(ch.id)\n",
    "    totalSolvMon[ch.id] = 0\n",
    "total = 0.\n",
    "\n",
    "for ch in st[0]: # iterate through each chain in the structure (model)\n",
    "    for res in ch.get_residues(): # iterate through each residue in the chain\n",
    "        # avoid making the computations for amino acids that don't belong to the interface residues\n",
    "        if cutoff_dist > 0 and res not in interface[ch.id]: \n",
    "            continue\n",
    "        # electrostatic interaction\n",
    "        elec[res], vdw[res] = calc_int_energies(st[0], res) \n",
    "        # solvation\n",
    "        solvAB[res] = calc_solvation(st[0], res)\n",
    "        solvA[res] = calc_solvation(\n",
    "            st_chains[ch.id],\n",
    "            st_chains[ch.id][0][ch.id][res.id[1]]\n",
    "        )\n",
    "        # add the values to the energy aggregates\n",
    "        totalIntElec += elec[res]\n",
    "        totalIntVdw += vdw[res]\n",
    "        totalSolv += solvAB[res]\n",
    "        totalSolvMon[ch.id] += solvA[res]\n",
    "        total += elec[res] + vdw[res] + solvAB[res] - solvA[res]\n",
    "\n",
    "# Create a dictionary with the total energies\n",
    "results = {}\n",
    "results['Total Elec Int.'] = '{:.4f}'.format(totalIntElec)\n",
    "results['Total Vdw Int.'] = '{:.4f}'.format(totalIntVdw)\n",
    "results['Total Solv AB'] = '{:.4f}'.format(totalSolv)\n",
    "results['Total Solv ' + chids[0]] = '{:.4f}'.format(totalSolvMon[chids[0]])\n",
    "results['Total Solv ' + chids[1]] = '{:.4f}'.format(totalSolvMon[chids[1]])\n",
    "results['DGintAB-A-B'] = '{:.4f}'.format(total)\n",
    "\n",
    "# Create a CSV file with the results\n",
    "with open('energies_interface.csv', 'w', newline='') as csvfile:\n",
    "    csvwriter = csv.writer(csvfile, delimiter=',')\n",
    "\n",
    "    # Write the header of the file\n",
    "    header = [\"Energy\", \"Value\"]\n",
    "    csvwriter.writerow(header)\n",
    "\n",
    "    # Write the results row by row\n",
    "    for energy in results:\n",
    "        Energy = energy\n",
    "        Value = results[energy]\n",
    "        row = [Energy, Value]\n",
    "        csvwriter.writerow(row)"
   ]
  },
  {
   "cell_type": "code",
   "execution_count": 85,
   "id": "4a9950b4",
   "metadata": {},
   "outputs": [],
   "source": [
    "# COMPUTE THE ENERGIES FOR ALL RESIDUES\n",
    "\n",
    "cutoff_dist = 0 # setting the cutoff distance to 0 means to use all residues for the computations\n",
    "\n",
    "## Initiatlize Energy aggregates\n",
    "elec = {}\n",
    "vdw = {}\n",
    "solvAB = {}\n",
    "solvA = {}\n",
    "totalIntElec = 0.\n",
    "totalIntVdw = 0.\n",
    "totalSolv = 0.\n",
    "totalSolvMon = {}\n",
    "## We get the chsin ids,not always they are A and B\n",
    "chids = []\n",
    "for ch in st[0]:\n",
    "    chids.append(ch.id)\n",
    "    totalSolvMon[ch.id] = 0\n",
    "total = 0.\n",
    "\n",
    "for ch in st[0]: # iterate through each chain in the structure (model)\n",
    "    for res in ch.get_residues(): # iterate through each residue in the chain\n",
    "        # Given cutoff_dist = 0, no residue will skip the energy calculations\n",
    "        if cutoff_dist > 0 and res not in interface[ch.id]:\n",
    "            continue\n",
    "        # electrostatic interaction\n",
    "        elec[res], vdw[res] = calc_int_energies(st[0], res)\n",
    "        # solvation\n",
    "        solvAB[res] = calc_solvation(st[0], res)\n",
    "        solvA[res] = calc_solvation(\n",
    "            st_chains[ch.id],\n",
    "            st_chains[ch.id][0][ch.id][res.id[1]]\n",
    "        )\n",
    "        # add the values to the energy aggregates\n",
    "        totalIntElec += elec[res]\n",
    "        totalIntVdw += vdw[res]\n",
    "        totalSolv += solvAB[res]\n",
    "        totalSolvMon[ch.id] += solvA[res]\n",
    "        total += elec[res] + vdw[res] + solvAB[res] - solvA[res]\n",
    "\n",
    "# Create a dictionary with the total energies\n",
    "results = {}\n",
    "results['Total Elec Int.'] = '{:.4f}'.format(totalIntElec)\n",
    "results['Total Vdw Int.'] = '{:.4f}'.format(totalIntVdw)\n",
    "results['Total Solv AB'] = '{:.4f}'.format(totalSolv)\n",
    "results['Total Solv ' + chids[0]] = '{:.4f}'.format(totalSolvMon[chids[0]])\n",
    "results['Total Solv ' + chids[1]] = '{:.4f}'.format(totalSolvMon[chids[1]])\n",
    "results['DGintAB-A-B'] = '{:.4f}'.format(total)\n",
    "\n",
    "# Create a CSV file with the results\n",
    "with open('energies_all.csv', 'w', newline='') as csvfile:\n",
    "    csvwriter = csv.writer(csvfile, delimiter=',')\n",
    "\n",
    "    # Write the header of the file\n",
    "    header = [\"Energy\", \"Value\"]\n",
    "    csvwriter.writerow(header)\n",
    "\n",
    "    # Write the results row by row\n",
    "    for energy in results:\n",
    "        Energy = energy\n",
    "        Value = results[energy]\n",
    "        row = [Energy, Value]\n",
    "        csvwriter.writerow(row)"
   ]
  },
  {
   "cell_type": "markdown",
   "id": "ea5a46f3",
   "metadata": {},
   "source": [
    "# 3. ALANINE-SCANNING"
   ]
  },
  {
   "cell_type": "code",
   "execution_count": 86,
   "id": "4fb9b3d0",
   "metadata": {},
   "outputs": [],
   "source": [
    "# Possible Atom names that correspond to Ala atoms\n",
    "ala_atoms = {'N', 'H', 'CA', 'HA', 'C', 'O', 'CB', 'HB', 'HB1', 'HB2', 'HB3', 'HA1', 'HA2', 'HA3'}"
   ]
  },
  {
   "cell_type": "code",
   "execution_count": 87,
   "id": "910792a3",
   "metadata": {},
   "outputs": [],
   "source": [
    "# Define calc_int_energies_ala function, which makes the computations required for alanine-scanning\n",
    "def calc_int_energies_ala(st, res):\n",
    "    '''Returns interaction energies (residue against other chains)\n",
    "        for all atoms and for Ala atoms\n",
    "    '''\n",
    "    elec = 0.\n",
    "    elec_ala = 0.\n",
    "    vdw = 0.\n",
    "    vdw_ala = 0.\n",
    "\n",
    "    for at1 in res.get_atoms():\n",
    "        for at2 in st.get_atoms():\n",
    "        # skip same chain atom pairs\n",
    "            if at2.get_parent().get_parent() != res.get_parent():\n",
    "                r = at1 - at2\n",
    "                e = elec_int(at1, at2, r)\n",
    "                elec += e\n",
    "                if at1.id in ala_atoms: #GLY are included implicitly\n",
    "                    elec_ala += e\n",
    "                e = vdw_int(at1, at2, r)\n",
    "                vdw += e\n",
    "                if at1.id in ala_atoms: #GLY are included implicitly\n",
    "                    vdw_ala += e\n",
    "    return elec, elec_ala, vdw, vdw_ala\n",
    "\n",
    "# Compute solvation for alanine-scanning\n",
    "def calc_solvation_ala(st, res):\n",
    "    '''Solvation energy based on ASA'''\n",
    "    solv = 0.\n",
    "    solv_ala = 0.\n",
    "    for at in res.get_atoms():\n",
    "        if 'EXP_NACCESS' not in at.xtra:\n",
    "            continue\n",
    "        s = float(at.xtra['EXP_NACCESS'])* at.xtra['vdw'].fsrf\n",
    "        solv += s\n",
    "        if at.id in ala_atoms:\n",
    "            solv_ala += s\n",
    "    return solv, solv_ala\n",
    "\n",
    "# Get the readable residue id\n",
    "def residue_id(res):\n",
    "    return '{} {}{}'.format(res.get_resname(), res.get_parent().id, res.id[1])\n",
    "\n",
    "# Get the readable atom id\n",
    "def atom_id(at):\n",
    "    return '{}.{}'.format(residue_id(at.get_parent()), at.id)"
   ]
  },
  {
   "cell_type": "code",
   "execution_count": 88,
   "id": "b3afdd9d",
   "metadata": {},
   "outputs": [],
   "source": [
    "# PERFORME THE ALA SCANNING\n",
    "\n",
    "cutoff_dist = cutoff # the customizable distance cutoff will be used\n",
    "\n",
    "## Initiatlize Energy aggregates\n",
    "elec = {}\n",
    "elec_ala = {}\n",
    "vdw = {}\n",
    "vdw_ala = {}\n",
    "solvAB = {}\n",
    "solvAB_ala = {}\n",
    "solvA = {}\n",
    "solvA_ala = {}\n",
    "totalIntElec = 0.\n",
    "totalIntVdw = 0.\n",
    "totalSolv = 0.\n",
    "totalSolvMon = {}\n",
    "\n",
    "## We get the chsin ids,not always they are A and B\n",
    "chids = []\n",
    "for ch in st[0]:\n",
    "    chids.append(ch.id)\n",
    "    totalSolvMon[ch.id] = 0\n",
    "\n",
    "total = 0.\n",
    "\n",
    "for ch in st[0]: # iterate through each chain in the structure (model)\n",
    "    for res in ch.get_residues(): # iterate through each residue in the chain\n",
    "        # avoid making the computations for amino acids that don't belong to the interface residues\n",
    "        if cutoff_dist > 0 and res not in interface[ch.id]:\n",
    "            continue\n",
    "        # electrostatic interaction\n",
    "        elec[res], elec_ala[res], vdw[res], vdw_ala[res] = calc_int_energies_ala(st[0], res)\n",
    "        # solvation\n",
    "        solvAB[res], solvAB_ala[res] = calc_solvation_ala(st[0], res)\n",
    "        solvA[res], solvA_ala[res] = calc_solvation_ala(\n",
    "            st_chains[ch.id],\n",
    "            st_chains[ch.id][0][ch.id][res.id[1]]\n",
    "        )\n",
    "        # add the values to the energy aggregates\n",
    "        totalIntElec += elec[res]\n",
    "        totalIntVdw += vdw[res]\n",
    "        totalSolv += solvAB[res]\n",
    "        totalSolvMon[ch.id] += solvA[res]\n",
    "        total += elec[res] + vdw[res] + solvAB[res] - solvA[res]\n",
    "\n",
    "# Create a list with the formatted results for each residue\n",
    "results = []\n",
    "for ch in st[0]:\n",
    "    for res in ch.get_residues():\n",
    "        if cutoff_dist > 0 and res not in interface[ch.id]:\n",
    "            continue\n",
    "        results.append(\n",
    "            '{:11} {:11.4f}{:11.4f}{:11.4f}{:11.4f}{:11.4f}'.format(\n",
    "                residue_id(res),\n",
    "                - elec[res] + elec_ala[res],\n",
    "                - vdw[res] + vdw_ala[res],\n",
    "                - solvAB[res] + solvAB_ala[res],\n",
    "                - solvA[res] + solvA_ala[res],\n",
    "                - elec[res] + elec_ala[res] - vdw[res] + vdw_ala[res] -solvAB[res] +\\\n",
    "                    solvAB_ala[res] -solvA[res] + solvA_ala[res]\n",
    "            )\n",
    "        )\n",
    "\n",
    "# Create a CSV file with the results of the Ala scanning\n",
    "with open('ala_scanning.csv', 'w', newline='') as csvfile:\n",
    "    csvwriter = csv.writer(csvfile, delimiter=',')\n",
    "    for line in results:\n",
    "        if line != \"\" and len(line) > 1:\n",
    "            columns = line.split()\n",
    "            residue = columns[0]\n",
    "            position = columns[1]\n",
    "            numerical_columns = [float(value) for value in columns[2:]]\n",
    "            row = [residue, position] + numerical_columns\n",
    "            csvwriter.writerow(row)\n"
   ]
  }
 ],
 "metadata": {
  "kernelspec": {
   "display_name": "Python 3 (ipykernel)",
   "language": "python",
   "name": "python3"
  },
  "language_info": {
   "codemirror_mode": {
    "name": "ipython",
    "version": 3
   },
   "file_extension": ".py",
   "mimetype": "text/x-python",
   "name": "python",
   "nbconvert_exporter": "python",
   "pygments_lexer": "ipython3",
   "version": "3.11.4"
  }
 },
 "nbformat": 4,
 "nbformat_minor": 5
}
